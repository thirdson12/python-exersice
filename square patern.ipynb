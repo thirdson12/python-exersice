{
 "cells": [
  {
   "cell_type": "code",
   "execution_count": 1,
   "id": "670d700d",
   "metadata": {},
   "outputs": [
    {
     "name": "stdout",
     "output_type": "stream",
     "text": [
      "\n",
      "\n",
      "A A A A A A A A A \n",
      "\n",
      "A B B B B B B B A \n",
      "\n",
      "A B 3 3 3 3 3 B A \n",
      "\n",
      "A B 3 4 4 4 3 B A \n",
      "\n",
      "A B 3 4 E 4 3 B A "
     ]
    }
   ],
   "source": [
    "def char(x,y):\n",
    "    if (x==0 or y==0) or y==8:\n",
    "        return (\"A\")\n",
    "    if (x>0 and (y==1)or(y==7)) or (x==1 and 0<y<8):\n",
    "        return(\"B\")\n",
    "    if (x>1 and (y==2)or (y==6)) or (x==2 and 1<y<7):\n",
    "        return(\"3\")\n",
    "    if(x>2 and (y==3)or(y==5)) or (x==3 and 2<y<6):\n",
    "        return(\"4\")\n",
    "    if(x>3 and (y==4)or(y==6)) or (x==4 and 3<y<5):\n",
    "        return(\"E\")\n",
    "     \n",
    "for i in range (0,5):\n",
    "    print(\"\\n\")\n",
    "    for k in range (0,9):\n",
    "        print(char(i,k),end=\" \")"
   ]
  },
  {
   "cell_type": "code",
   "execution_count": null,
   "id": "8c982c79",
   "metadata": {},
   "outputs": [],
   "source": []
  }
 ],
 "metadata": {
  "kernelspec": {
   "display_name": "Python 3 (ipykernel)",
   "language": "python",
   "name": "python3"
  },
  "language_info": {
   "codemirror_mode": {
    "name": "ipython",
    "version": 3
   },
   "file_extension": ".py",
   "mimetype": "text/x-python",
   "name": "python",
   "nbconvert_exporter": "python",
   "pygments_lexer": "ipython3",
   "version": "3.9.12"
  }
 },
 "nbformat": 4,
 "nbformat_minor": 5
}
