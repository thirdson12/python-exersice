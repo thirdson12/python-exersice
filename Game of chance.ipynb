{
 "cells": [
  {
   "cell_type": "code",
   "execution_count": 1,
   "id": "d7c1d581",
   "metadata": {},
   "outputs": [
    {
     "name": "stdout",
     "output_type": "stream",
     "text": [
      "player rolled  6 and 3 so sum is 9\n",
      "draw trying new roll\n",
      "player rolled  1 and 4 so sum is 5\n",
      "draw trying new roll\n",
      "player rolled  3 and 1 so sum is 4\n",
      "draw trying new roll\n",
      "player rolled  1 and 2 so sum is 3\n",
      "you lose\n"
     ]
    }
   ],
   "source": [
    "import random\n",
    "\n",
    "def roll():\n",
    "    global die\n",
    "    global die1\n",
    "    die=random.randrange(1,7)\n",
    "    die1=random.randrange(1,7)\n",
    "    return (die,die1)\n",
    "\n",
    "roll()\n",
    "while True:\n",
    "    print(\"player rolled \",die,\"and\",die1,\"so sum is\",die+die1)\n",
    "    if die+die1==7 or die+die1==11:\n",
    "        print(\"you win\")\n",
    "        break\n",
    "    elif  die+die1==2 or die+die1==3 or die+die1==12:\n",
    "        print(\"you lose\")\n",
    "        break\n",
    "    else:\n",
    "        print(\"draw trying new roll\")\n",
    "        roll()"
   ]
  },
  {
   "cell_type": "code",
   "execution_count": null,
   "id": "c1bde42e",
   "metadata": {},
   "outputs": [],
   "source": []
  }
 ],
 "metadata": {
  "kernelspec": {
   "display_name": "Python 3 (ipykernel)",
   "language": "python",
   "name": "python3"
  },
  "language_info": {
   "codemirror_mode": {
    "name": "ipython",
    "version": 3
   },
   "file_extension": ".py",
   "mimetype": "text/x-python",
   "name": "python",
   "nbconvert_exporter": "python",
   "pygments_lexer": "ipython3",
   "version": "3.9.12"
  }
 },
 "nbformat": 4,
 "nbformat_minor": 5
}
