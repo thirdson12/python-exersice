{
 "cells": [
  {
   "cell_type": "code",
   "execution_count": 3,
   "id": "7d8102e0",
   "metadata": {},
   "outputs": [
    {
     "name": "stdout",
     "output_type": "stream",
     "text": [
      "enter grade: 59\n",
      "fail grade\n"
     ]
    }
   ],
   "source": [
    "grade=int(input('enter grade: '))\n",
    "\n",
    "\n",
    "if grade>=85:\n",
    "    print('A passing grade')\n",
    "elif 84 <= grade < 70:\n",
    "    print('b passing grade')\n",
    "elif 69 <= grade < 60:\n",
    "    print('c passing grade')    \n",
    "elif 59 <= grade < 50:\n",
    "    print('d passing grade')\n",
    "else:\n",
    "    print('fail grade')"
   ]
  },
  {
   "cell_type": "code",
   "execution_count": 4,
   "id": "6f56e763",
   "metadata": {},
   "outputs": [
    {
     "name": "stdout",
     "output_type": "stream",
     "text": [
      "enter grade: 3\n",
      "3\n",
      "2\n",
      "1\n"
     ]
    }
   ],
   "source": [
    "number=int(input('enter grade: '))\n",
    "while number >0:\n",
    "    print(number)\n",
    "    number=number-1"
   ]
  },
  {
   "cell_type": "code",
   "execution_count": 3,
   "id": "b944e21f",
   "metadata": {},
   "outputs": [
    {
     "name": "stdout",
     "output_type": "stream",
     "text": [
      "enter grade: 2\n",
      "2***1***"
     ]
    }
   ],
   "source": [
    "number=int(input('enter grade: '))\n",
    "while number >0:\n",
    "    print(number, end='***')\n",
    "    number=number-1"
   ]
  },
  {
   "cell_type": "code",
   "execution_count": 7,
   "id": "e678f9e7",
   "metadata": {},
   "outputs": [
    {
     "name": "stdout",
     "output_type": "stream",
     "text": [
      "0  1  2  3  4  5  6  7  8  9  "
     ]
    }
   ],
   "source": [
    "for element in  range(10):\n",
    "    print(element, end='  ')\n",
    "    "
   ]
  },
  {
   "cell_type": "code",
   "execution_count": 9,
   "id": "adfc1d7e",
   "metadata": {},
   "outputs": [
    {
     "name": "stdout",
     "output_type": "stream",
     "text": [
      "The factorial of 3 is 2.0\n"
     ]
    }
   ],
   "source": [
    "num = 3\n",
    "\n",
    "\n",
    "factroial2 = int(input(\"Enter a number: \"))\n",
    "\n",
    "factorial = 1\n",
    "\n",
    "if num < 0:\n",
    "   print(\"Sorry, factorial does not exist for negative numbers\")\n",
    "elif num == 0:\n",
    "   print(\"The factorial of 0 is 1\")\n",
    "else:\n",
    "   for i in range(1,num + 1):\n",
    "       factorial = factorial*i\n",
    "   print(\"The factorial of\",num,\"is\",factorial)\n",
    "   print(factorial/factorial2)"
   ]
  },
  {
   "cell_type": "code",
   "execution_count": 2,
   "id": "2ae11d31",
   "metadata": {},
   "outputs": [
    {
     "name": "stdout",
     "output_type": "stream",
     "text": [
      "20  19  18  17  16  15  14  13  12  11  10  9  8  7  6  5  "
     ]
    }
   ],
   "source": [
    "grades=[25,56,33,89,90,23,12,67]\n",
    "\n",
    "for no in range(20,4,-1):\n",
    "    print(no, end='  ')\n",
    "    "
   ]
  },
  {
   "cell_type": "code",
   "execution_count": null,
   "id": "dfc440fb",
   "metadata": {},
   "outputs": [],
   "source": [
    "grades=[25,56,33,89,90,23,12,67]\n",
    "from decimal import decimal\n",
    "amouth=112.25\n",
    "print(amouth)"
   ]
  },
  {
   "cell_type": "code",
   "execution_count": null,
   "id": "0b5e6519",
   "metadata": {},
   "outputs": [],
   "source": [
    "grades=[25,56,33,89,90,23,12,67]\n",
    "\n",
    "amouth=414.414\n",
    "\n",
    "print(f'{amouth:<10.1f}')\n"
   ]
  },
  {
   "cell_type": "code",
   "execution_count": 5,
   "id": "0485136a",
   "metadata": {},
   "outputs": [
    {
     "name": "stdout",
     "output_type": "stream",
     "text": [
      "mean is  52.9\n",
      "median is  56.0\n",
      "mode is  56\n"
     ]
    }
   ],
   "source": [
    "dataset=[25,56,33,89,90,23,12,78,67,56]\n",
    "import statistics\n",
    "\n",
    "print(\"mean is \", statistics.mean(dataset))\n",
    "\n",
    "print(\"median is \", statistics.median(dataset))\n",
    "print(\"mode is \", statistics.mode(dataset))"
   ]
  },
  {
   "cell_type": "code",
   "execution_count": 5,
   "id": "7f49b08b",
   "metadata": {},
   "outputs": [
    {
     "name": "stdout",
     "output_type": "stream",
     "text": [
      "athlete jump 6.43\n",
      "2\n",
      "4\n",
      "2\n"
     ]
    }
   ],
   "source": [
    "from decimal import Decimal\n",
    "import statistics\n",
    "\n",
    "jump=8.85\n",
    "athletejump=float(input('athlete jump '))\n",
    "temp=jump-athletejump\n",
    "temp2=Decimal(temp) % 1\n",
    "temp3=temp2*10\n",
    "temp4=temp/100\n",
    "temp5=temp4*100\n",
    "print(int(temp))\n",
    "print(int(temp3))\n",
    "print(int(temp5))\n",
    "\n"
   ]
  },
  {
   "cell_type": "code",
   "execution_count": 26,
   "id": "09af6fe3",
   "metadata": {},
   "outputs": [
    {
     "name": "stdout",
     "output_type": "stream",
     "text": [
      "12\n",
      "54\n",
      "18\n"
     ]
    }
   ],
   "source": [
    "def function(x,y):\n",
    "  return y * x\n",
    "\n",
    "print(function(3,4))\n",
    "print(function(54,1))\n",
    "print(function(9,2))"
   ]
  },
  {
   "cell_type": "code",
   "execution_count": null,
   "id": "95b10b8c",
   "metadata": {},
   "outputs": [],
   "source": []
  }
 ],
 "metadata": {
  "kernelspec": {
   "display_name": "Python 3 (ipykernel)",
   "language": "python",
   "name": "python3"
  },
  "language_info": {
   "codemirror_mode": {
    "name": "ipython",
    "version": 3
   },
   "file_extension": ".py",
   "mimetype": "text/x-python",
   "name": "python",
   "nbconvert_exporter": "python",
   "pygments_lexer": "ipython3",
   "version": "3.9.12"
  }
 },
 "nbformat": 4,
 "nbformat_minor": 5
}
